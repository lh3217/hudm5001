{
 "cells": [
  {
   "cell_type": "code",
   "execution_count": 19,
   "id": "30ec4e38-435c-4940-84f5-749453f2ebb1",
   "metadata": {
    "editable": true,
    "slideshow": {
     "slide_type": ""
    },
    "tags": []
   },
   "outputs": [],
   "source": [
    "#Linyuan Huang UNI:lh3217\n",
    "#Q1\n",
    "gradebook = {'Jon' : '95','Mike' : '84','Jamie' : '99'}"
   ]
  },
  {
   "cell_type": "code",
   "execution_count": 17,
   "id": "7da402b2-8e71-47bc-bb7c-df0ade84362e",
   "metadata": {},
   "outputs": [
    {
     "data": {
      "text/plain": [
       "{'Jon': '95', 'Mike': '84', 'Jamie': '99'}"
      ]
     },
     "execution_count": 17,
     "metadata": {},
     "output_type": "execute_result"
    }
   ],
   "source": [
    "gradebook"
   ]
  },
  {
   "cell_type": "code",
   "execution_count": 27,
   "id": "4f2eb37a-77fe-4071-9855-d6a3254e1365",
   "metadata": {},
   "outputs": [
    {
     "data": {
      "text/plain": [
       "'84'"
      ]
     },
     "execution_count": 27,
     "metadata": {},
     "output_type": "execute_result"
    }
   ],
   "source": [
    "#Q2\n",
    "gradebook['Mike']"
   ]
  },
  {
   "cell_type": "code",
   "execution_count": 29,
   "id": "ba4d06fa-89e9-4431-b775-b546697dccbd",
   "metadata": {},
   "outputs": [
    {
     "ename": "KeyError",
     "evalue": "'Jeff'",
     "output_type": "error",
     "traceback": [
      "\u001b[0;31m---------------------------------------------------------------------------\u001b[0m",
      "\u001b[0;31mKeyError\u001b[0m                                  Traceback (most recent call last)",
      "Cell \u001b[0;32mIn[29], line 2\u001b[0m\n\u001b[1;32m      1\u001b[0m \u001b[38;5;66;03m#Q3\u001b[39;00m\n\u001b[0;32m----> 2\u001b[0m gradebook[\u001b[38;5;124m'\u001b[39m\u001b[38;5;124mJeff\u001b[39m\u001b[38;5;124m'\u001b[39m]\n",
      "\u001b[0;31mKeyError\u001b[0m: 'Jeff'"
     ]
    }
   ],
   "source": [
    "#Q3\n",
    "gradebook['Jeff']"
   ]
  },
  {
   "cell_type": "code",
   "execution_count": null,
   "id": "541fdcc0-b2fa-4213-9556-0bf36b23cabc",
   "metadata": {},
   "outputs": [],
   "source": [
    "result:\n",
    "---------------------------------------------------------------------------\n",
    "KeyError                                  Traceback (most recent call last)\n",
    "Cell In[29], line 2\n",
    "      1 #Q3\n",
    "----> 2 gradebook['Jeff']\n",
    "\n",
    "KeyError: 'Jeff'"
   ]
  },
  {
   "cell_type": "code",
   "execution_count": 167,
   "id": "2cb0eda5-26f8-41ee-989b-df71718c9826",
   "metadata": {
    "editable": true,
    "slideshow": {
     "slide_type": ""
    },
    "tags": []
   },
   "outputs": [
    {
     "name": "stdout",
     "output_type": "stream",
     "text": [
      "<class 'list'>\n",
      "['Alex', 'Alex', 'Joe', 'Patrick', 'Tom']\n"
     ]
    }
   ],
   "source": [
    "#Q4\n",
    "\n",
    "names = ['Alex', 'Patrick', 'Tom', 'Joe', 'Alex']\n",
    "names\n",
    "\n",
    "#Q5\n",
    "names.sort()\n",
    "print(names)\n",
    "\n",
    "\n"
   ]
  },
  {
   "cell_type": "code",
   "execution_count": 158,
   "id": "86c71a65-44c8-4660-b913-20769fbfd86f",
   "metadata": {
    "editable": true,
    "slideshow": {
     "slide_type": ""
    },
    "tags": []
   },
   "outputs": [
    {
     "name": "stdout",
     "output_type": "stream",
     "text": [
      "<class 'set'>\n"
     ]
    }
   ],
   "source": [
    "#Q6\n",
    "Names = {'Alex', 'Patrick', 'Tom', 'Joe', 'Alex'}\n",
    "Names\n"
   ]
  },
  {
   "cell_type": "code",
   "execution_count": 143,
   "id": "cbab3db8-ab4d-475f-8a79-3223eed6a908",
   "metadata": {
    "editable": true,
    "slideshow": {
     "slide_type": ""
    },
    "tags": []
   },
   "outputs": [
    {
     "name": "stdout",
     "output_type": "stream",
     "text": [
      "<class 'list'>\n"
     ]
    }
   ],
   "source": [
    "#Q7a\n",
    "td = [2, 4, 1, 3, 1]\n",
    "td"
   ]
  },
  {
   "cell_type": "code",
   "execution_count": null,
   "id": "72bfbc8d-97a7-4dbe-8b5e-7ace1e0916eb",
   "metadata": {},
   "outputs": [],
   "source": []
  },
  {
   "cell_type": "code",
   "execution_count": 117,
   "id": "8c6d6e4f-a47d-43c4-b30d-1a135fdc50af",
   "metadata": {
    "editable": true,
    "slideshow": {
     "slide_type": ""
    },
    "tags": []
   },
   "outputs": [
    {
     "data": {
      "text/plain": [
       "[1, 3, 1]"
      ]
     },
     "execution_count": 117,
     "metadata": {},
     "output_type": "execute_result"
    }
   ],
   "source": [
    "#Q7b\n",
    "td = [2, 4, 1, 3, 1]\n",
    "\n",
    "odd_values = [x for x in td if x % 2 != 0]\n",
    "odd_values\n"
   ]
  },
  {
   "cell_type": "code",
   "execution_count": 128,
   "id": "3cfdbb21-f3d6-4dbb-b52c-99f88ded774f",
   "metadata": {},
   "outputs": [
    {
     "data": {
      "text/plain": [
       "[2, 4, 3]"
      ]
     },
     "execution_count": 128,
     "metadata": {},
     "output_type": "execute_result"
    }
   ],
   "source": [
    "#Q7c\n",
    "td = [2, 4, 1, 3, 1]\n",
    "values_greater_than_one = [value for value in td if value > 1]\n",
    "values_greater_than_one"
   ]
  },
  {
   "cell_type": "code",
   "execution_count": null,
   "id": "26d0d874-f98e-42a0-a2e4-fed37dbb4260",
   "metadata": {
    "editable": true,
    "slideshow": {
     "slide_type": ""
    },
    "tags": []
   },
   "outputs": [],
   "source": []
  }
 ],
 "metadata": {
  "kernelspec": {
   "display_name": "Python 3 (ipykernel)",
   "language": "python",
   "name": "python3"
  },
  "language_info": {
   "codemirror_mode": {
    "name": "ipython",
    "version": 3
   },
   "file_extension": ".py",
   "mimetype": "text/x-python",
   "name": "python",
   "nbconvert_exporter": "python",
   "pygments_lexer": "ipython3",
   "version": "3.12.4"
  }
 },
 "nbformat": 4,
 "nbformat_minor": 5
}
