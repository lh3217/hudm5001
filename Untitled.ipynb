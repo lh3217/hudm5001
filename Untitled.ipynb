{
 "cells": [
  {
   "cell_type": "code",
   "execution_count": 1,
   "id": "f7cc3f36-c823-4283-a182-394d3c403b93",
   "metadata": {},
   "outputs": [
    {
     "ename": "SyntaxError",
     "evalue": "invalid syntax (1925831668.py, line 1)",
     "output_type": "error",
     "traceback": [
      "\u001b[0;36m  Cell \u001b[0;32mIn[1], line 1\u001b[0;36m\u001b[0m\n\u001b[0;31m    return = 3\u001b[0m\n\u001b[0m           ^\u001b[0m\n\u001b[0;31mSyntaxError\u001b[0m\u001b[0;31m:\u001b[0m invalid syntax\n"
     ]
    }
   ],
   "source": [
    "return = 3\n"
   ]
  },
  {
   "cell_type": "code",
   "execution_count": 5,
   "id": "83a90d26-5b8f-4a14-8dbd-93a8b9b2c91d",
   "metadata": {},
   "outputs": [],
   "source": [
    "w = x = y = 5"
   ]
  },
  {
   "cell_type": "code",
   "execution_count": 7,
   "id": "6ca8213f-8900-49af-a06f-fdd8404520c7",
   "metadata": {},
   "outputs": [
    {
     "ename": "ValueError",
     "evalue": "too many values to unpack (expected 2)",
     "output_type": "error",
     "traceback": [
      "\u001b[0;31m---------------------------------------------------------------------------\u001b[0m",
      "\u001b[0;31mValueError\u001b[0m                                Traceback (most recent call last)",
      "Cell \u001b[0;32mIn[7], line 1\u001b[0m\n\u001b[0;32m----> 1\u001b[0m m, n \u001b[38;5;241m=\u001b[39m \u001b[38;5;241m3\u001b[39m, \u001b[38;5;241m4\u001b[39m, \u001b[38;5;241m5\u001b[39m\n",
      "\u001b[0;31mValueError\u001b[0m: too many values to unpack (expected 2)"
     ]
    }
   ],
   "source": [
    "m, n = 3, 4, 5"
   ]
  },
  {
   "cell_type": "code",
   "execution_count": 9,
   "id": "a55cfda9-f649-4627-a812-18d379f98c59",
   "metadata": {},
   "outputs": [],
   "source": [
    "m, n = 3, 4"
   ]
  },
  {
   "cell_type": "code",
   "execution_count": 11,
   "id": "ae50f2c2-baef-49ba-922b-37ac8ab9bf29",
   "metadata": {},
   "outputs": [
    {
     "ename": "TypeError",
     "evalue": "type() takes 1 or 3 arguments",
     "output_type": "error",
     "traceback": [
      "\u001b[0;31m---------------------------------------------------------------------------\u001b[0m",
      "\u001b[0;31mTypeError\u001b[0m                                 Traceback (most recent call last)",
      "Cell \u001b[0;32mIn[11], line 1\u001b[0m\n\u001b[0;32m----> 1\u001b[0m \u001b[38;5;28mtype\u001b[39m(y\u001b[38;5;241m=\u001b[39m\u001b[38;5;241m2\u001b[39m)\n",
      "\u001b[0;31mTypeError\u001b[0m: type() takes 1 or 3 arguments"
     ]
    }
   ],
   "source": [
    "type(y=2)"
   ]
  },
  {
   "cell_type": "code",
   "execution_count": 13,
   "id": "8d4067c8-64f4-41da-96d9-bbf9a47b11ed",
   "metadata": {},
   "outputs": [
    {
     "data": {
      "text/plain": [
       "[4, 5]"
      ]
     },
     "execution_count": 13,
     "metadata": {},
     "output_type": "execute_result"
    }
   ],
   "source": [
    "mylist = [0,1,4,5]\n",
    "mylist[-2:]\n"
   ]
  },
  {
   "cell_type": "code",
   "execution_count": 15,
   "id": "81f2c096-d190-482c-83bd-0bef94d510ee",
   "metadata": {},
   "outputs": [
    {
     "data": {
      "text/plain": [
       "False"
      ]
     },
     "execution_count": 15,
     "metadata": {},
     "output_type": "execute_result"
    }
   ],
   "source": [
    "lunch = ['grilled_cheese','strawberries','carrots']\n",
    "isinstance(lunch[0], list)"
   ]
  },
  {
   "cell_type": "code",
   "execution_count": 17,
   "id": "8ea92fe9-aa23-4548-97cd-50825acdcf0f",
   "metadata": {},
   "outputs": [
    {
     "ename": "TypeError",
     "evalue": "'str' object does not support item assignment",
     "output_type": "error",
     "traceback": [
      "\u001b[0;31m---------------------------------------------------------------------------\u001b[0m",
      "\u001b[0;31mTypeError\u001b[0m                                 Traceback (most recent call last)",
      "Cell \u001b[0;32mIn[17], line 3\u001b[0m\n\u001b[1;32m      1\u001b[0m status \u001b[38;5;241m=\u001b[39m \u001b[38;5;124m'\u001b[39m\u001b[38;5;124mwow\u001b[39m\u001b[38;5;124m'\u001b[39m\n\u001b[0;32m----> 3\u001b[0m status[\u001b[38;5;241m0\u001b[39m] \u001b[38;5;241m=\u001b[39m n\n",
      "\u001b[0;31mTypeError\u001b[0m: 'str' object does not support item assignment"
     ]
    }
   ],
   "source": [
    "status = 'wow'\n",
    "\n",
    "status[0] = n"
   ]
  },
  {
   "cell_type": "code",
   "execution_count": 19,
   "id": "79469cfd-0e4c-4aed-88f6-93a5a5dcd292",
   "metadata": {},
   "outputs": [
    {
     "name": "stdout",
     "output_type": "stream",
     "text": [
      "Patriots win!\n",
      "Not Again!\n",
      "Maybe Next Year\n"
     ]
    }
   ],
   "source": [
    "headlines = ['Patriots win!', 'Not Again!', 'Maybe Next Year']\n",
    "\n",
    "for ix, val in enumerate(headlines):\n",
    "\n",
    "    print(val)\n",
    "\n"
   ]
  },
  {
   "cell_type": "code",
   "execution_count": 21,
   "id": "77c8ce59-57fa-4b0e-81c0-d7aa08dab8b1",
   "metadata": {},
   "outputs": [
    {
     "name": "stdout",
     "output_type": "stream",
     "text": [
      "<class 'dict'> ACK\n"
     ]
    }
   ],
   "source": [
    "airports = {'LAGUARDIA':'LGA','LOGAN':'BOS','NANTUCKET':'ACK','CHARLOTTESVILLE':'CHO'}\n",
    "\n",
    "print(type(airports), airports['NANTUCKET'])\n"
   ]
  },
  {
   "cell_type": "code",
   "execution_count": 23,
   "id": "0e56ecd2-9990-49c1-b5f9-f6dfac68bf6f",
   "metadata": {},
   "outputs": [
    {
     "data": {
      "text/plain": [
       "True"
      ]
     },
     "execution_count": 23,
     "metadata": {},
     "output_type": "execute_result"
    }
   ],
   "source": [
    "x = 'jack'\n",
    "\n",
    "y = ['jack', 'in', 'the', 'box']\n",
    "\n",
    "x in y\n"
   ]
  },
  {
   "cell_type": "code",
   "execution_count": 27,
   "id": "2eb069b6-0452-4dbe-ab1a-6a86091fc464",
   "metadata": {},
   "outputs": [
    {
     "name": "stdout",
     "output_type": "stream",
     "text": [
      "{'reuters', 'msnbc', 'cnn'}\n",
      "('cnn', 'reuters', 'msnbc', 'reuters')\n"
     ]
    }
   ],
   "source": [
    "media = {'cnn','reuters','msnbc','reuters'}\n",
    "\n",
    "media2 = ('cnn','reuters','msnbc','reuters')\n",
    "\n",
    "print(media)\n",
    "\n",
    "print(media2)\n"
   ]
  }
 ],
 "metadata": {
  "kernelspec": {
   "display_name": "Python 3 (ipykernel)",
   "language": "python",
   "name": "python3"
  },
  "language_info": {
   "codemirror_mode": {
    "name": "ipython",
    "version": 3
   },
   "file_extension": ".py",
   "mimetype": "text/x-python",
   "name": "python",
   "nbconvert_exporter": "python",
   "pygments_lexer": "ipython3",
   "version": "3.12.4"
  }
 },
 "nbformat": 4,
 "nbformat_minor": 5
}
